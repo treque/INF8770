{
 "cells": [
  {
   "cell_type": "code",
   "execution_count": 680,
   "metadata": {},
   "outputs": [],
   "source": [
    "from PIL import Image\n",
    "import PIL.ImageOps   \n",
    "import numpy as np"
   ]
  },
  {
   "cell_type": "code",
   "execution_count": 681,
   "metadata": {},
   "outputs": [],
   "source": [
    "image = Image.open(\"kodim14.png\")\n"
   ]
  },
  {
   "cell_type": "code",
   "execution_count": 682,
   "metadata": {},
   "outputs": [],
   "source": [
    "def encode(image):\n",
    "    image = image.convert('YCbCr')\n",
    "    w, h = image.size\n",
    "    pixel = image.load()\n",
    "\n",
    "    for y in range(h):\n",
    "        if (y % 2 == 0):\n",
    "            for x in range(w):\n",
    "                if (not x % 2 == 0):\n",
    "                    pixel[x, y] = pixel[x - 1, y]\n",
    "        else:\n",
    "            for x in range(w):\n",
    "                y, cb, cr = pixel[x, y - 1]\n",
    "                oy, ocb , ocr = pixel[x, y]\n",
    "                pixel[x, y] = (oy, cb, cr)\n",
    "\n",
    "    return image\n",
    "\n",
    "def decode(image):\n",
    "    return image.convert('RGB')\n",
    "\n",
    "\n",
    "def array_image_save(array, image_path ='compressed.png'):\n",
    "    image.save(image_path)\n"
   ]
  },
  {
   "cell_type": "code",
   "execution_count": 683,
   "metadata": {},
   "outputs": [],
   "source": [
    "def divide16(image):\n",
    "    w, h = image.size\n",
    "    arr = np.asarray(image)\n",
    "    \n",
    "    blocks = []\n",
    "    for row in range(0, h, 16):\n",
    "        for col in range(0, w, 16):\n",
    "            blocks.append(arr[row : row + 16, col : col + 16])\n",
    "    return np.array(blocks)\n",
    "\n",
    "def undivide16(blocks, w, h):\n",
    "    \n",
    "    image = np.zeros((h, w, 3)).astype(\"uint8\")\n",
    "    \n",
    "    for k in range(len(blocks)):\n",
    "        i = k // (w / 16)\n",
    "        j = k % (w / 16)\n",
    "        block = blocks[k]\n",
    "        for n in range(16):\n",
    "            for m in range(16):\n",
    "                image[int(i * 16 + n)][int(j * 16 + m)] = block[n][m]\n",
    "    image = Image.fromarray(image)\n",
    "    return image\n",
    "    \n",
    "\n",
    "    "
   ]
  },
  {
   "cell_type": "code",
   "execution_count": 684,
   "metadata": {},
   "outputs": [],
   "source": [
    "image = encode(image)\n",
    "\n",
    "blocks = divide16(image)\n",
    "image = undivide16(blocks, image.size[0], image.size[1])\n",
    "\n",
    "inverted_image = PIL.ImageOps.invert(image)\n",
    "image = decode(image)\n",
    "\n",
    "\n",
    "array_image_save(image)"
   ]
  },
  {
   "cell_type": "code",
   "execution_count": null,
   "metadata": {},
   "outputs": [],
   "source": []
  },
  {
   "cell_type": "code",
   "execution_count": null,
   "metadata": {},
   "outputs": [],
   "source": []
  }
 ],
 "metadata": {
  "kernelspec": {
   "display_name": "Python 3",
   "language": "python",
   "name": "python3"
  },
  "language_info": {
   "codemirror_mode": {
    "name": "ipython",
    "version": 3
   },
   "file_extension": ".py",
   "mimetype": "text/x-python",
   "name": "python",
   "nbconvert_exporter": "python",
   "pygments_lexer": "ipython3",
   "version": "3.6.4"
  }
 },
 "nbformat": 4,
 "nbformat_minor": 2
}
