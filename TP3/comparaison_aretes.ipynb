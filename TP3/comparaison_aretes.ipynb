{
 "cells": [
  {
   "cell_type": "code",
   "execution_count": 2,
   "metadata": {},
   "outputs": [],
   "source": [
    "import cv2\n",
    "import numpy as np\n",
    "import matplotlib.pyplot as plt"
   ]
  },
  {
   "cell_type": "code",
   "execution_count": 3,
   "metadata": {},
   "outputs": [],
   "source": [
    "\n",
    "\"\"\"\n",
    "This function should process the video file.\n",
    "Input: \n",
    "- file: the path to the video\n",
    "Output:\n",
    "- cut: vector of frame indices where cuts are detected\n",
    "- grad: vector of tuples (start, end) of frame indices where gradations are detected\n",
    "\"\"\"\n",
    "def process_video(file: str):\n",
    "    cut=[]\n",
    "    grad=[]\n",
    "    cap = cv2.VideoCapture(file)\n",
    "    while(True):\n",
    "        ret, frame = cap.read()\n",
    "        if ret:\n",
    "            #TODO : frame processing algorithm\n",
    "\n",
    "            cv2.imshow('frame', frame)\n",
    "            if cv2.waitKey(1) & 0xFF == ord('q'):\n",
    "                break\n",
    "        else:\n",
    "            break\n",
    "    cap.release()\n",
    "    cv2.destroyAllWindows()\n",
    "    return cut, grad\n",
    "\n",
    "\"\"\"\n",
    "This function provides the ground truth for a given video file.\n",
    "Input: \n",
    "- file: the path to the video\n",
    "Output:\n",
    "- cut: vector of frame indices where cuts happen\n",
    "- grad: vector of tuples (start, end) of frame indices where gradations happen\n",
    "\"\"\"\n",
    "def read_groundtruth(file: str):\n",
    "    cut=[]\n",
    "    grad=[]\n",
    "    f = open(file, \"r\")\n",
    "    line = f.readline().split()\n",
    "    while(line != []):\n",
    "        if len(line)==1:\n",
    "            cut.append(int(line[0]))\n",
    "        elif len(line)==2:\n",
    "            grad.append([int(line[0]), int(line[1])])\n",
    "        line = f.readline().split()\n",
    "    return cut, grad\n",
    "\n",
    "#cut, grad = process_video('anni005.mpg')\n",
    "#gt_cut, gt_grad = read_groundtruth('anni005.txt')\n",
    "\n",
    "#TODO : results analysis\n"
   ]
  },
  {
   "cell_type": "code",
   "execution_count": 106,
   "metadata": {},
   "outputs": [],
   "source": [
    "def gradient_sobel(image):\n",
    "    Gx = cv2.Sobel(image,cv2.CV_64F,1,0,ksize=5) \n",
    "    Gy = cv2.Sobel(image,cv2.CV_64F,0,1,ksize=5)\n",
    "    \n",
    "    return Gx, Gy"
   ]
  },
  {
   "cell_type": "code",
   "execution_count": 4,
   "metadata": {},
   "outputs": [],
   "source": [
    "def edge_extraction(Gx, Gy, seuil):\n",
    "    ForceGradient = np.sqrt(np.power(Gx,2)+np.power(Gy,2))\n",
    "    aretes = ForceGradient>seuil\n",
    "    \n",
    "    return aretes"
   ]
  },
  {
   "cell_type": "code",
   "execution_count": 5,
   "metadata": {},
   "outputs": [],
   "source": [
    "def dilatation(image):\n",
    "    kernel = np.ones((3,3), np.uint8) \n",
    "    img_dilation = cv2.dilate(np.float32(image), kernel, iterations=1)\n",
    "    \n",
    "    return img_dilation"
   ]
  },
  {
   "cell_type": "code",
   "execution_count": 134,
   "metadata": {},
   "outputs": [],
   "source": [
    "def compare(img1, img2):\n",
    "    img1_dilated = dilatation(img1)\n",
    "    img2_dilated = dilatation(img2)\n",
    "    up = 0\n",
    "    down = 0\n",
    "    for i in range(len(img1_dilated)):\n",
    "        up += np.dot(img1_dilated[i].astype(int), img2[i].astype(int))\n",
    "    for i in range(len(img2)):\n",
    "        for j in range(len(img2[0])):\n",
    "            down += int(img2[i][j])\n",
    "    pin = 1 - (up/down)\n",
    "    up = 0\n",
    "    down = 0\n",
    "    for i in range(len(img1)):\n",
    "        up += np.dot(img1[i].astype(int), img2_dilated[i].astype(int))\n",
    "    for i in range(len(img1)):\n",
    "        for j in range(len(img1[0])):\n",
    "            down += int(img1[i][j])\n",
    "    pout = 1 - (up/down)\n",
    "    \n",
    "    return [pin, pout]"
   ]
  },
  {
   "cell_type": "code",
   "execution_count": 109,
   "metadata": {},
   "outputs": [],
   "source": [
    "def find_aretes(vid_path):\n",
    "    cap = cv2.VideoCapture(vid_path)\n",
    "    aretes_all = []\n",
    "    while(True):\n",
    "        ret, frame = cap.read()\n",
    "        if ret:\n",
    "            grayFrame = cv2.cvtColor(frame, cv2.COLOR_BGR2GRAY)\n",
    "            Gx, Gy = gradient_sobel(grayFrame)\n",
    "            aretes = edge_extraction(Gx, Gy, 700)\n",
    "            aretes_all.append(aretes)\n",
    "        else:\n",
    "            break  \n",
    "\n",
    "    cap.release()\n",
    "    cv2.destroyAllWindows()\n",
    "    \n",
    "    return aretes_all"
   ]
  },
  {
   "cell_type": "code",
   "execution_count": 138,
   "metadata": {},
   "outputs": [],
   "source": [
    "# BE CAREFUL THESE $ LINES TAKE FOREVER TO COMPILE\n",
    "aretes_all = find_aretes(\"anni009/anni009.mpg\")\n",
    "anni009_rho = []\n",
    "for i in range(len(aretes_all) - 1):\n",
    "    anni009_rho.append(compare(aretes_all[i], aretes_all[i+1]))"
   ]
  },
  {
   "cell_type": "code",
   "execution_count": 160,
   "metadata": {},
   "outputs": [
    {
     "data": {
      "text/plain": [
       "[<matplotlib.lines.Line2D at 0x7fb94c208e80>]"
      ]
     },
     "execution_count": 160,
     "metadata": {},
     "output_type": "execute_result"
    },
    {
     "data": {
      "image/png": "[encoded data removed]",
      "text/plain": [
       "<Figure size 432x288 with 1 Axes>"
      ]
     },
     "metadata": {
      "needs_background": "light"
     },
     "output_type": "display_data"
    }
   ],
   "source": [
    "x = list(range(len(aretes_all)-1))\n",
    "pin_list = [rho[0] for rho in anni009_rho]\n",
    "plt.plot(x, pin_list, \"ro\")\n"
   ]
  }
 ],
 "metadata": {
  "kernelspec": {
   "display_name": "Python 3",
   "language": "python",
   "name": "python3"
  },
  "language_info": {
   "codemirror_mode": {
    "name": "ipython",
    "version": 3
   },
   "file_extension": ".py",
   "mimetype": "text/x-python",
   "name": "python",
   "nbconvert_exporter": "python",
   "pygments_lexer": "ipython3",
   "version": "3.8.2"
  }
 },
 "nbformat": 4,
 "nbformat_minor": 2
}
