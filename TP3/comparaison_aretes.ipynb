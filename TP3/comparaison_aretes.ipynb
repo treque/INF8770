{
 "cells": [
  {
   "cell_type": "code",
   "execution_count": null,
   "metadata": {},
   "outputs": [],
   "source": [
    "import cv2\n",
    "import numpy as np\n",
    "\n",
    "\"\"\"\n",
    "This function should process the video file.\n",
    "Input: \n",
    "- file: the path to the video\n",
    "Output:\n",
    "- cut: vector of frame indices where cuts are detected\n",
    "- grad: vector of tuples (start, end) of frame indices where gradations are detected\n",
    "\"\"\"\n",
    "def process_video(file: str):\n",
    "    cut=[]\n",
    "    grad=[]\n",
    "    cap = cv2.VideoCapture(file)\n",
    "    while(True):\n",
    "        ret, frame = cap.read()\n",
    "        if ret:\n",
    "            #TODO : frame processing algorithm\n",
    "\n",
    "            cv2.imshow('frame', frame)\n",
    "            if cv2.waitKey(1) & 0xFF == ord('q'):\n",
    "                break\n",
    "        else:\n",
    "            break\n",
    "    cap.release()\n",
    "    cv2.destroyAllWindows()\n",
    "    return cut, grad\n",
    "\n",
    "\"\"\"\n",
    "This function provides the ground truth for a given video file.\n",
    "Input: \n",
    "- file: the path to the video\n",
    "Output:\n",
    "- cut: vector of frame indices where cuts happen\n",
    "- grad: vector of tuples (start, end) of frame indices where gradations happen\n",
    "\"\"\"\n",
    "def read_groundtruth(file: str):\n",
    "    cut=[]\n",
    "    grad=[]\n",
    "    f = open(file, \"r\")\n",
    "    line = f.readline().split()\n",
    "    while(line != []):\n",
    "        if len(line)==1:\n",
    "            cut.append(int(line[0]))\n",
    "        elif len(line)==2:\n",
    "            grad.append([int(line[0]), int(line[1])])\n",
    "        line = f.readline().split()\n",
    "    return cut, grad\n",
    "\n",
    "cut, grad = process_video('anni005.mpg')\n",
    "gt_cut, gt_grad = read_groundtruth('anni005.txt')\n",
    "\n",
    "#TODO : results analysis\n"
   ]
  }
 ],
 "metadata": {
  "kernelspec": {
   "display_name": "Python 3",
   "language": "python",
   "name": "python3"
  },
  "language_info": {
   "codemirror_mode": {
    "name": "ipython",
    "version": 3
   },
   "file_extension": ".py",
   "mimetype": "text/x-python",
   "name": "python",
   "nbconvert_exporter": "python",
   "pygments_lexer": "ipython3",
   "version": "3.8.2"
  }
 },
 "nbformat": 4,
 "nbformat_minor": 2
}
