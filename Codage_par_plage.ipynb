{
 "cells": [
  {
   "cell_type": "markdown",
   "metadata": {},
   "source": [
    "INF8770 Technologies multimédias\n",
    "\n",
    "Polytechnique Montréal\n",
    "\n",
    "Exemple de codage par plage"
   ]
  },
  {
   "cell_type": "code",
   "execution_count": 20,
   "metadata": {},
   "outputs": [],
   "source": [
    "import numpy as np\n",
    "from random import randrange"
   ]
  },
  {
   "cell_type": "markdown",
   "metadata": {},
   "source": [
    "Message à coder et définition de la taille du compteur en bits"
   ]
  },
  {
   "cell_type": "code",
   "execution_count": 21,
   "metadata": {},
   "outputs": [],
   "source": [
    "def messageGenerator(symbols):\n",
    "    message = \"\"\n",
    "    for i in range(40):\n",
    "        message += symbols[randrange(len(symbols))]\n",
    "    return message"
   ]
  },
  {
   "cell_type": "code",
   "execution_count": 22,
   "metadata": {},
   "outputs": [
    {
     "name": "stdout",
     "output_type": "stream",
     "text": [
      "['AAAAAAAAAAAAAAAAAAAAAAAAAAAAAAAAAAAAAAAA', 'BBABABBABABBABBABBABAAAABBBBBBABBBABAABA', 'CCCACAABABAAABABBCCAABBCAAACAAAABCBBBCBC', 'BBBADCBBBDDBCBDBABBAABDADADABADACADAADAC', 'AABDBDCCBCABDDCECECDCBDCEBCCEBCEECABDEEE', 'CEECBFBAAFEDFECCAEDDADDEDCCEBAEECFDCDFBE', 'GAEABFCDBEBBGFBCADCFABCCBEAFAABDCEGDCBGF', 'HDBAGFECDHBDHFFFBGCFGHDHFGFCGHDFECCBFDAE']\n"
     ]
    }
   ],
   "source": [
    "Messages = []\n",
    "Symboles = [\"A\", \"B\", \"C\", \"D\", \"E\", \"F\", \"G\", \"H\"]\n",
    "for i in range(1,9):\n",
    "    Messages.append(messageGenerator(Symboles[0:i]))\n",
    "print(Messages)"
   ]
  },
  {
   "cell_type": "code",
   "execution_count": 38,
   "metadata": {},
   "outputs": [
    {
     "name": "stdout",
     "output_type": "stream",
     "text": [
      "HDBAGFECDHBDHFFFBGCFGHDHFGFCGHDFECCBFDAE\n"
     ]
    }
   ],
   "source": [
    "compteur = 2 #La meilleure taille pour ce message est 2 bits. Plusieurs courtes répétitions\n",
    "Message = Messages[7]\n",
    "print(Message)"
   ]
  },
  {
   "cell_type": "markdown",
   "metadata": {},
   "source": [
    "Construction du dictionnaire à partir des symboles contenus dans le message. "
   ]
  },
  {
   "cell_type": "code",
   "execution_count": 39,
   "metadata": {},
   "outputs": [],
   "source": [
    "dictsymb =[Message[0]]\n",
    "dictbin = [\"{:b}\".format(0)]\n",
    "nbsymboles = 1\n",
    "for i in range(1,len(Message)):\n",
    "    if Message[i] not in dictsymb:\n",
    "        dictsymb += [Message[i]]\n",
    "        dictbin += [\"{:b}\".format(nbsymboles)] \n",
    "        nbsymboles +=1\n",
    "        \n",
    "longueurOriginale = np.ceil(np.log2(nbsymboles))*len(Message) #Longueur du message avec codage binaire"
   ]
  },
  {
   "cell_type": "markdown",
   "metadata": {},
   "source": [
    "Ajustement des codes binaires selon le nombre total de symboles en ajoutant des zéros. Tri des symboles. Affichage du dictionnaire."
   ]
  },
  {
   "cell_type": "code",
   "execution_count": 40,
   "metadata": {},
   "outputs": [
    {
     "name": "stdout",
     "output_type": "stream",
     "text": [
      "[['A' '000']\n",
      " ['B' '001']\n",
      " ['C' '010']\n",
      " ['D' '011']\n",
      " ['E' '100']\n",
      " ['F' '101']\n",
      " ['G' '110']\n",
      " ['H' '111']]\n"
     ]
    }
   ],
   "source": [
    "for i in range(nbsymboles):\n",
    "    dictbin[i] = \"{:b}\".format(i).zfill(int(np.ceil(np.log2(nbsymboles))))\n",
    "        \n",
    "dictsymb.sort()\n",
    "dictionnaire = np.transpose([dictsymb,dictbin])\n",
    "print(dictionnaire) "
   ]
  },
  {
   "cell_type": "markdown",
   "metadata": {},
   "source": [
    "Codage du message"
   ]
  },
  {
   "cell_type": "code",
   "execution_count": 41,
   "metadata": {},
   "outputs": [],
   "source": [
    "i=0;\n",
    "MessageCode = []\n",
    "longueur = 0\n",
    "while i < len(Message):\n",
    "    carac = Message[i] #caractere qui sera codé\n",
    "    repetition = 1\n",
    "    #Calcul le nombre de répétitions.\n",
    "    i += 1\n",
    "    #tient compte de la limite du compteur\n",
    "    while i < len(Message) and repetition < 2**compteur and Message[i] == carac: \n",
    "        i += 1\n",
    "        repetition += 1\n",
    "    #Codage à l'aide du dictionnaire  \n",
    "    coderepetition = \"{:b}\".format(repetition-1).zfill(compteur)\n",
    "    codebinaire = dictbin[dictsymb.index(carac)]\n",
    "    MessageCode += [coderepetition, codebinaire]\n",
    "    longueur += len(codebinaire) + len(coderepetition)"
   ]
  },
  {
   "cell_type": "markdown",
   "metadata": {},
   "source": [
    "Affichage du message codé"
   ]
  },
  {
   "cell_type": "code",
   "execution_count": 42,
   "metadata": {},
   "outputs": [
    {
     "name": "stdout",
     "output_type": "stream",
     "text": [
      "['00', '111', '00', '011', '00', '001', '00', '000', '00', '110', '00', '101', '00', '100', '00', '010', '00', '011', '00', '111', '00', '001', '00', '011', '00', '111', '10', '101', '00', '001', '00', '110', '00', '010', '00', '101', '00', '110', '00', '111', '00', '011', '00', '111', '00', '101', '00', '110', '00', '101', '00', '010', '00', '110', '00', '111', '00', '011', '00', '101', '00', '100', '01', '010', '00', '001', '00', '101', '00', '011', '00', '000', '00', '100']\n"
     ]
    }
   ],
   "source": [
    "print(MessageCode)"
   ]
  },
  {
   "cell_type": "markdown",
   "metadata": {},
   "source": [
    "Longueur en bits du message codé et celle de l'original"
   ]
  },
  {
   "cell_type": "code",
   "execution_count": 43,
   "metadata": {},
   "outputs": [
    {
     "name": "stdout",
     "output_type": "stream",
     "text": [
      "Longueur = 185\n",
      "Longueur originale = 120.0\n"
     ]
    }
   ],
   "source": [
    "print(\"Longueur = {0}\".format(longueur))\n",
    "print(\"Longueur originale = {0}\".format(longueurOriginale))"
   ]
  },
  {
   "cell_type": "code",
   "execution_count": 44,
   "metadata": {},
   "outputs": [
    {
     "name": "stdout",
     "output_type": "stream",
     "text": [
      "-0.5416666666666667\n"
     ]
    }
   ],
   "source": [
    "taux = 1 - longueur/longueurOriginale\n",
    "print(taux)"
   ]
  }
 ],
 "metadata": {
  "kernelspec": {
   "display_name": "Python 3",
   "language": "python",
   "name": "python3"
  },
  "language_info": {
   "codemirror_mode": {
    "name": "ipython",
    "version": 3
   },
   "file_extension": ".py",
   "mimetype": "text/x-python",
   "name": "python",
   "nbconvert_exporter": "python",
   "pygments_lexer": "ipython3",
   "version": "3.8.0"
  }
 },
 "nbformat": 4,
 "nbformat_minor": 2
}
