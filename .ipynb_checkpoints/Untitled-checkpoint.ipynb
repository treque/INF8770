{
 "cells": [
  {
   "cell_type": "code",
   "execution_count": 90,
   "metadata": {},
   "outputs": [],
   "source": [
    "import cv2\n",
    "import numpy as np"
   ]
  },
  {
   "cell_type": "code",
   "execution_count": 91,
   "metadata": {},
   "outputs": [],
   "source": [
    "img = cv2.imread(\"test.png\")\n",
    "\n",
    "ycbcr = cv2.cvtColor(img, cv2.COLOR_BGR2YCrCb)\n",
    "    "
   ]
  },
  {
   "cell_type": "code",
   "execution_count": 173,
   "metadata": {},
   "outputs": [],
   "source": [
    "def encode(ycbcr):\n",
    "    y, cb, cr = cv2.split(ycbcr)\n",
    "    dim = (int(ycbcr.shape[1]/2), int(ycbcr.shape[0]/2))\n",
    "    \n",
    "    resizedCb = cv2.resize(cb, dim)\n",
    "    resizedCr = cv2.resize(cr, dim)\n",
    "    \n",
    "\n",
    "    return y, resizedCb, resizedCr\n",
    "\n",
    "def decode(y, halfcb, halfcr):\n",
    "    dim = (int(halfcb.shape[1]*2), int(halfcb.shape[0]*2))\n",
    "\n",
    "    originalCb = cv2.resize(halfcb, dim)\n",
    "    \n",
    "    originalCr = cv2.resize(halfcr, dim)\n",
    "    \n",
    "    print(y.shape)\n",
    "    print(halfcb.shape)\n",
    "    print(halfcr.shape)\n",
    "    print(originalCb.shape)\n",
    "    print(originalCr.shape)\n",
    "\n",
    "    #cv2.imshow('cb', originalCb)\n",
    "    #cv2.imshow('cr', originalCr)\n",
    "    #cv2.imshow('y', y)\n",
    "    #cv2.waitKey(0)\n",
    "\n",
    "    merged = cv2.merge((y, originalCb, originalCr))\n",
    "    \n",
    "    merged = cv2.cvtColor(merged, cv2.COLOR_YCrCb2BGR)\n",
    "    \n",
    "    cv2.imwrite('01.png',merged)\n",
    "    return merged\n"
   ]
  },
  {
   "cell_type": "code",
   "execution_count": 176,
   "metadata": {},
   "outputs": [],
   "source": [
    "def divide8(y, cb, cr):\n",
    "    h, w = y.shape\n",
    "        \n",
    "    YBlocks = []\n",
    "    CbBlocks = []\n",
    "    CrBlocks = []\n",
    "    \n",
    "    \n",
    "    for row in range(0, h, 8):\n",
    "        for col in range(0, w, 8):\n",
    "            YBlocks.append(y[row : row + 8, col : col + 8])\n",
    "    \n",
    "    h, w = cb.shape\n",
    "            \n",
    "    for row in range(0, h, 8):\n",
    "        for col in range(0, w, 8):\n",
    "            CbBlocks.append(cb[row : row + 8, col : col + 8])\n",
    "            \n",
    "    for row in range(0, h, 8):\n",
    "        for col in range(0, w, 8):\n",
    "            CrBlocks.append(cr[row : row + 8, col : col + 8])\n",
    "    \n",
    "    return YBlocks, CbBlocks, CrBlocks\n",
    "\n",
    "def undivide8(YBlocks, CbBlocks, CrBlocks, w, h):\n",
    "    \n",
    "    y = np.zeros((h, w))\n",
    "\n",
    "    for k in range(len(YBlocks)):\n",
    "        i = k // (w / 8) # quel bloc (ligne)\n",
    "        j = k % (w / 8) # quel bloc (colonne)\n",
    "        block = YBlocks[k] \n",
    "\n",
    "        for n in range(8): # quel pixel dans le bloc (ligne)\n",
    "            for m in range(8): #quel pixel dans le bloc (colonne\n",
    "                y[int(i * 8 + n)][int(j * 8 + m)] = block[n][m]\n",
    "                \n",
    "    for k in range(len(CbBlocks)):\n",
    "        i = k // (w / 16)\n",
    "        j = k % (w / 16)\n",
    "        block = CbBlocks[k]\n",
    "        for n in range(8):\n",
    "            for m in range(8):\n",
    "                cb[int(i * 8 + n)][int(j * 8 + m)] = block[n][m]\n",
    "                \n",
    "    for k in range(len(CrBlocks)):\n",
    "        i = k // (w / 16)\n",
    "        j = k % (w / 16)\n",
    "        block = CrBlocks[k]\n",
    "        for n in range(8):\n",
    "            for m in range(8):\n",
    "                cr[int(i * 8 + n)][int(j * 8 + m)] = block[n][m]\n",
    "                \n",
    "    return y, cb, cr #half cb cr\n",
    "    \n",
    "\n",
    "    "
   ]
  },
  {
   "cell_type": "code",
   "execution_count": null,
   "metadata": {},
   "outputs": [],
   "source": [
    "y, cb, cr = encode(ycbcr)\n",
    "\n",
    "#YBlocks, CbBlocks, CrBlocks = divide8(y, cb, cr)\n",
    "\n",
    "#y, cb, cr = undivide8(YBlocks, CbBlocks, CrBlocks, y.shape[1], y.shape[0])\n",
    "\n",
    "print(cb)\n",
    "\n",
    "image = decode(y, cb, cr)\n"
   ]
  },
  {
   "cell_type": "code",
   "execution_count": null,
   "metadata": {},
   "outputs": [],
   "source": []
  },
  {
   "cell_type": "code",
   "execution_count": null,
   "metadata": {},
   "outputs": [],
   "source": []
  }
 ],
 "metadata": {
  "kernelspec": {
   "display_name": "Python 3",
   "language": "python",
   "name": "python3"
  },
  "language_info": {
   "codemirror_mode": {
    "name": "ipython",
    "version": 3
   },
   "file_extension": ".py",
   "mimetype": "text/x-python",
   "name": "python",
   "nbconvert_exporter": "python",
   "pygments_lexer": "ipython3",
   "version": "3.8.0"
  }
 },
 "nbformat": 4,
 "nbformat_minor": 2
}
