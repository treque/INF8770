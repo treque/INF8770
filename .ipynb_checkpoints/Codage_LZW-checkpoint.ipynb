{
 "cells": [
  {
   "cell_type": "markdown",
   "metadata": {},
   "source": [
    "INF8770 Technologies multimédias\n",
    "\n",
    "Polytechnique Montréal\n",
    "\n",
    "Exemple de codage LZW"
   ]
  },
  {
   "cell_type": "code",
   "execution_count": 1,
   "metadata": {},
   "outputs": [],
   "source": [
    "import numpy as np\n"
   ]
  },
  {
   "cell_type": "markdown",
   "metadata": {},
   "source": [
    "Message à coder"
   ]
  },
  {
   "cell_type": "code",
   "execution_count": 2,
   "metadata": {},
   "outputs": [],
   "source": [
    "Message = \"ABAABAABACABBABCDAADACABABAAABAABBABABAABAAB\""
   ]
  },
  {
   "cell_type": "markdown",
   "metadata": {},
   "source": [
    "Construction du dictionnaire à partir des symboles contenus dans le message. "
   ]
  },
  {
   "cell_type": "code",
   "execution_count": 3,
   "metadata": {},
   "outputs": [],
   "source": [
    "dictsymb =[Message[0]]\n",
    "dictbin = [\"{:b}\".format(0)]\n",
    "nbsymboles = 1\n",
    "for i in range(1,len(Message)):\n",
    "    if Message[i] not in dictsymb:\n",
    "        dictsymb += [Message[i]]\n",
    "        dictbin += [\"{:b}\".format(nbsymboles)] \n",
    "        nbsymboles +=1\n",
    "        \n",
    "longueurOriginale = np.ceil(np.log2(nbsymboles))*len(Message)    "
   ]
  },
  {
   "cell_type": "markdown",
   "metadata": {},
   "source": [
    "Ajustement des codes binaires selon le nombre total de symboles en ajoutant des zéros. Tri des symboles. Affichage du dictionnaire initial."
   ]
  },
  {
   "cell_type": "code",
   "execution_count": 4,
   "metadata": {},
   "outputs": [
    {
     "name": "stdout",
     "output_type": "stream",
     "text": [
      "[['A' '00']\n",
      " ['B' '01']\n",
      " ['C' '10']\n",
      " ['D' '11']]\n"
     ]
    }
   ],
   "source": [
    "for i in range(nbsymboles):\n",
    "    dictbin[i] = \"{:b}\".format(i).zfill(int(np.ceil(np.log2(nbsymboles))))\n",
    "        \n",
    "dictsymb.sort()\n",
    "dictionnaire = np.transpose([dictsymb,dictbin])\n",
    "print(dictionnaire) "
   ]
  },
  {
   "cell_type": "markdown",
   "metadata": {},
   "source": [
    "Codage du message"
   ]
  },
  {
   "cell_type": "code",
   "execution_count": 5,
   "metadata": {},
   "outputs": [],
   "source": [
    "i=0;\n",
    "MessageCode = []\n",
    "longueur = 0\n",
    "while i < len(Message):\n",
    "    precsouschaine = Message[i] #sous-chaine qui sera codé\n",
    "    souschaine = Message[i] #sous-chaine qui sera codé + 1 caractère (pour le dictionnaire)\n",
    "    \n",
    "    #Cherche la plus grande sous-chaine. On ajoute un caractère au fur et à mesure.\n",
    "    while souschaine in dictsymb and i < len(Message):\n",
    "        i += 1\n",
    "        precsouschaine = souschaine\n",
    "        if i < len(Message):  #Si on a pas atteint la fin du message\n",
    "            souschaine += Message[i]  \n",
    "\n",
    "    #Codage de la plus grande sous-chaine à l'aide du dictionnaire  \n",
    "    codebinaire = [dictbin[dictsymb.index(precsouschaine)]]\n",
    "    MessageCode += codebinaire\n",
    "    longueur += len(codebinaire[0]) \n",
    "    #Ajout de la sous-chaine codé + symbole suivant dans le dictionnaire.\n",
    "    if i < len(Message):\n",
    "        dictsymb += [souschaine]\n",
    "        dictbin += [\"{:b}\".format(nbsymboles)] \n",
    "        nbsymboles +=1\n",
    "    \n",
    "    #Ajout de 1 bit si requis\n",
    "    if np.ceil(np.log2(nbsymboles)) > len(MessageCode[-1]):\n",
    "        for j in range(nbsymboles):\n",
    "            dictbin[j] = \"{:b}\".format(j).zfill(int(np.ceil(np.log2(nbsymboles))))\n",
    "    \n"
   ]
  },
  {
   "cell_type": "markdown",
   "metadata": {},
   "source": [
    "Affichage du message codé"
   ]
  },
  {
   "cell_type": "code",
   "execution_count": 6,
   "metadata": {},
   "outputs": [
    {
     "name": "stdout",
     "output_type": "stream",
     "text": [
      "['00', '001', '000', '100', '110', '0101', '0010', '0100', '0101', '0001', '0010', '0011', '0110', '01111', '01010', '01100', '00110', '00111', '01011', '00111', '00101', '10101', '00001']\n"
     ]
    }
   ],
   "source": [
    " print(MessageCode)"
   ]
  },
  {
   "cell_type": "markdown",
   "metadata": {},
   "source": [
    "Affichage du dictionnaire final"
   ]
  },
  {
   "cell_type": "code",
   "execution_count": 7,
   "metadata": {},
   "outputs": [
    {
     "name": "stdout",
     "output_type": "stream",
     "text": [
      "[['A' '00000']\n",
      " ['B' '00001']\n",
      " ['C' '00010']\n",
      " ['D' '00011']\n",
      " ['AB' '00100']\n",
      " ['BA' '00101']\n",
      " ['AA' '00110']\n",
      " ['ABA' '00111']\n",
      " ['AAB' '01000']\n",
      " ['BAC' '01001']\n",
      " ['CA' '01010']\n",
      " ['ABB' '01011']\n",
      " ['BAB' '01100']\n",
      " ['BC' '01101']\n",
      " ['CD' '01110']\n",
      " ['DA' '01111']\n",
      " ['AAD' '10000']\n",
      " ['DAC' '10001']\n",
      " ['CAB' '10010']\n",
      " ['BABA' '10011']\n",
      " ['AAA' '10100']\n",
      " ['ABAA' '10101']\n",
      " ['ABBA' '10110']\n",
      " ['ABAB' '10111']\n",
      " ['BAA' '11000']\n",
      " ['ABAAB' '11001']]\n"
     ]
    }
   ],
   "source": [
    "dictionnaire = np.transpose([dictsymb,dictbin])\n",
    "print(dictionnaire) "
   ]
  },
  {
   "cell_type": "markdown",
   "metadata": {},
   "source": [
    "Longueur en bits du message codé et celle de l'original"
   ]
  },
  {
   "cell_type": "code",
   "execution_count": 8,
   "metadata": {},
   "outputs": [
    {
     "name": "stdout",
     "output_type": "stream",
     "text": [
      "Longueur = 96\n",
      "Longueur originale = 88.0\n"
     ]
    }
   ],
   "source": [
    "print(\"Longueur = {0}\".format(longueur))\n",
    "print(\"Longueur originale = {0}\".format(longueurOriginale))"
   ]
  },
  {
   "cell_type": "code",
   "execution_count": null,
   "metadata": {},
   "outputs": [],
   "source": []
  }
 ],
 "metadata": {
  "kernelspec": {
   "display_name": "Python 3",
   "language": "python",
   "name": "python3"
  },
  "language_info": {
   "codemirror_mode": {
    "name": "ipython",
    "version": 3
   },
   "file_extension": ".py",
   "mimetype": "text/x-python",
   "name": "python",
   "nbconvert_exporter": "python",
   "pygments_lexer": "ipython3",
   "version": "3.8.0"
  }
 },
 "nbformat": 4,
 "nbformat_minor": 2
}
