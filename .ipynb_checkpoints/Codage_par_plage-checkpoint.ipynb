{
 "cells": [
  {
   "cell_type": "markdown",
   "metadata": {},
   "source": [
    "INF8770 Technologies multimédias\n",
    "\n",
    "Polytechnique Montréal\n",
    "\n",
    "Exemple de codage par plage"
   ]
  },
  {
   "cell_type": "code",
   "execution_count": 8,
   "metadata": {},
   "outputs": [],
   "source": [
    "import numpy as np\n",
    "from random import randrange"
   ]
  },
  {
   "cell_type": "markdown",
   "metadata": {},
   "source": [
    "Message à coder et définition de la taille du compteur en bits"
   ]
  },
  {
   "cell_type": "code",
   "execution_count": 10,
   "metadata": {},
   "outputs": [],
   "source": [
    "def messageGenerator(symbols):\n",
    "    message = \"\"\n",
    "    for i in range(40):\n",
    "        message += symbols[randrange(len(symbols))]\n",
    "    return message"
   ]
  },
  {
   "cell_type": "code",
   "execution_count": 17,
   "metadata": {},
   "outputs": [
    {
     "name": "stdout",
     "output_type": "stream",
     "text": [
      "['AAAAAAAAAAAAAAAAAAAAAAAAAAAAAAAAAAAAAAAA', 'BBABBABBBABAAAAAAAABBAAAAABBABBAABBBBBAB', 'ABACCBACBBBCAACACAABBAACCBCBCCBBCCBABBCB', 'DCAAAAAAAACBAAADBBABDBAAAACACABCABDCABCD', 'DAEDCDBEDBEDAEADCDEDEDAEEEDEABDBABEAAADA', 'FDCCABCFDBFDFADBDAEDECFBFCECEDCECCCACDDC', 'GGBGCDAGCBGAGGBEBAEGEDBDDCFBCGEBCCABECBA', 'BFAFFBHHAFGBFGBFFGHGEDAEEGCGDGDDHDCDDBFG']\n"
     ]
    }
   ],
   "source": [
    "Messages = []\n",
    "Symboles = [\"A\", \"B\", \"C\", \"D\", \"E\", \"F\", \"G\", \"H\"]\n",
    "for i in range(1,9):\n",
    "    Messages.append(messageGenerator(Symboles[0:i]))\n",
    "print(Messages)\n",
    "#compteur = 2 #La meilleure taille pour ce message est 2 bits. Plusieurs courtes répétitions"
   ]
  },
  {
   "cell_type": "markdown",
   "metadata": {},
   "source": [
    "Construction du dictionnaire à partir des symboles contenus dans le message. "
   ]
  },
  {
   "cell_type": "code",
   "execution_count": 3,
   "metadata": {},
   "outputs": [],
   "source": [
    "dictsymb =[Message[0]]\n",
    "dictbin = [\"{:b}\".format(0)]\n",
    "nbsymboles = 1\n",
    "for i in range(1,len(Message)):\n",
    "    if Message[i] not in dictsymb:\n",
    "        dictsymb += [Message[i]]\n",
    "        dictbin += [\"{:b}\".format(nbsymboles)] \n",
    "        nbsymboles +=1\n",
    "        \n",
    "longueurOriginale = np.ceil(np.log2(nbsymboles))*len(Message) #Longueur du message avec codage binaire"
   ]
  },
  {
   "cell_type": "markdown",
   "metadata": {},
   "source": [
    "Ajustement des codes binaires selon le nombre total de symboles en ajoutant des zéros. Tri des symboles. Affichage du dictionnaire."
   ]
  },
  {
   "cell_type": "code",
   "execution_count": 4,
   "metadata": {},
   "outputs": [
    {
     "name": "stdout",
     "output_type": "stream",
     "text": [
      "[['A' '00']\n",
      " ['B' '01']\n",
      " ['C' '10']\n",
      " ['D' '11']]\n"
     ]
    }
   ],
   "source": [
    "for i in range(nbsymboles):\n",
    "    dictbin[i] = \"{:b}\".format(i).zfill(int(np.ceil(np.log2(nbsymboles))))\n",
    "        \n",
    "dictsymb.sort()\n",
    "dictionnaire = np.transpose([dictsymb,dictbin])\n",
    "print(dictionnaire) "
   ]
  },
  {
   "cell_type": "markdown",
   "metadata": {},
   "source": [
    "Codage du message"
   ]
  },
  {
   "cell_type": "code",
   "execution_count": 5,
   "metadata": {},
   "outputs": [],
   "source": [
    "i=0;\n",
    "MessageCode = []\n",
    "longueur = 0\n",
    "while i < len(Message):\n",
    "    carac = Message[i] #caractere qui sera codé\n",
    "    repetition = 1\n",
    "    #Calcul le nombre de répétitions.\n",
    "    i += 1\n",
    "    #tient compte de la limite du compteur\n",
    "    while i < len(Message) and repetition < 2**compteur and Message[i] == carac: \n",
    "        i += 1\n",
    "        repetition += 1\n",
    "    #Codage à l'aide du dictionnaire  \n",
    "    coderepetition = \"{:b}\".format(repetition-1).zfill(compteur)\n",
    "    codebinaire = dictbin[dictsymb.index(carac)]\n",
    "    MessageCode += [coderepetition, codebinaire]\n",
    "    longueur += len(codebinaire) + len(coderepetition)"
   ]
  },
  {
   "cell_type": "markdown",
   "metadata": {},
   "source": [
    "Affichage du message codé"
   ]
  },
  {
   "cell_type": "code",
   "execution_count": 6,
   "metadata": {},
   "outputs": [
    {
     "name": "stdout",
     "output_type": "stream",
     "text": [
      "['11', '00', '00', '01', '11', '00', '01', '00', '10', '01', '01', '00', '00', '01', '11', '00', '00', '10', '00', '00', '01', '01', '00', '00', '00', '01', '00', '10', '00', '11', '01', '00', '00', '11', '00', '00', '00', '10', '11', '00', '11', '00', '11', '00', '11', '00', '11', '00', '01', '00', '00', '01', '00', '00', '00', '01', '00', '00', '10', '01', '00', '00']\n"
     ]
    }
   ],
   "source": [
    "print(MessageCode)"
   ]
  },
  {
   "cell_type": "markdown",
   "metadata": {},
   "source": [
    "Longueur en bits du message codé et celle de l'original"
   ]
  },
  {
   "cell_type": "code",
   "execution_count": 7,
   "metadata": {},
   "outputs": [
    {
     "name": "stdout",
     "output_type": "stream",
     "text": [
      "Longueur = 124\n",
      "Longueur originale = 128.0\n"
     ]
    }
   ],
   "source": [
    "print(\"Longueur = {0}\".format(longueur))\n",
    "print(\"Longueur originale = {0}\".format(longueurOriginale))"
   ]
  },
  {
   "cell_type": "code",
   "execution_count": null,
   "metadata": {},
   "outputs": [],
   "source": []
  }
 ],
 "metadata": {
  "kernelspec": {
   "display_name": "Python 3",
   "language": "python",
   "name": "python3"
  },
  "language_info": {
   "codemirror_mode": {
    "name": "ipython",
    "version": 3
   },
   "file_extension": ".py",
   "mimetype": "text/x-python",
   "name": "python",
   "nbconvert_exporter": "python",
   "pygments_lexer": "ipython3",
   "version": "3.8.0"
  }
 },
 "nbformat": 4,
 "nbformat_minor": 2
}
