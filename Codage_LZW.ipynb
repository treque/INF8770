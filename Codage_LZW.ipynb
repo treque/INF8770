{
 "cells": [
  {
   "cell_type": "markdown",
   "metadata": {},
   "source": [
    "INF8770 Technologies multimédias\n",
    "\n",
    "Polytechnique Montréal\n",
    "\n",
    "Exemple de codage LZW"
   ]
  },
  {
   "cell_type": "code",
   "execution_count": 16,
   "metadata": {},
   "outputs": [
    {
     "name": "stdout",
     "output_type": "stream",
     "text": [
      "['AAAAAAAAAAAAAAAAAAAAAAAAAAAAAAAAAAAAAAAA', 'ABABBBABABABBABBABBABBAABBAAABBBABBAABBB', 'BCCBACACCAAABBABBCACAAACBBBCABBBCCCBAABC', 'DCDBAABACAADBDDCCBCDAAACACBABCCBDDCBBBBB', 'DBDBAAEEACDADECABCAEADADBACCCBECECEEBDBA', 'CDAEADBAFDEEBADEEAAEDABAEDBECDCEEFBFEFAD', 'GDAABAGBGEDGAFFFFCGEBBBCGAEAGEADBEBCAGBA', 'BHHEGDCBFCGBBGCECHDFDFFGHGBGABDDECEGFCHE']\n"
     ]
    }
   ],
   "source": [
    "import numpy as np\n",
    "import import_ipynb\n",
    "from Codage_par_plage import Messages\n",
    "print(Messages)"
   ]
  },
  {
   "cell_type": "markdown",
   "metadata": {},
   "source": [
    "Message à coder"
   ]
  },
  {
   "cell_type": "code",
   "execution_count": 25,
   "metadata": {},
   "outputs": [],
   "source": [
    "Message = Messages[7]"
   ]
  },
  {
   "cell_type": "markdown",
   "metadata": {},
   "source": [
    "Construction du dictionnaire à partir des symboles contenus dans le message. "
   ]
  },
  {
   "cell_type": "code",
   "execution_count": 26,
   "metadata": {},
   "outputs": [],
   "source": [
    "dictsymb =[Message[0]]\n",
    "dictbin = [\"{:b}\".format(0)]\n",
    "nbsymboles = 1\n",
    "for i in range(1,len(Message)):\n",
    "    if Message[i] not in dictsymb:\n",
    "        dictsymb += [Message[i]]\n",
    "        dictbin += [\"{:b}\".format(nbsymboles)] \n",
    "        nbsymboles +=1\n",
    "        \n",
    "longueurOriginale = np.ceil(np.log2(nbsymboles))*len(Message)    "
   ]
  },
  {
   "cell_type": "markdown",
   "metadata": {},
   "source": [
    "Ajustement des codes binaires selon le nombre total de symboles en ajoutant des zéros. Tri des symboles. Affichage du dictionnaire initial."
   ]
  },
  {
   "cell_type": "code",
   "execution_count": 27,
   "metadata": {},
   "outputs": [
    {
     "name": "stdout",
     "output_type": "stream",
     "text": [
      "[['A' '000']\n",
      " ['B' '001']\n",
      " ['C' '010']\n",
      " ['D' '011']\n",
      " ['E' '100']\n",
      " ['F' '101']\n",
      " ['G' '110']\n",
      " ['H' '111']]\n"
     ]
    }
   ],
   "source": [
    "for i in range(nbsymboles):\n",
    "    dictbin[i] = \"{:b}\".format(i).zfill(int(np.ceil(np.log2(nbsymboles))))\n",
    "        \n",
    "dictsymb.sort()\n",
    "dictionnaire = np.transpose([dictsymb,dictbin])\n",
    "print(dictionnaire) "
   ]
  },
  {
   "cell_type": "markdown",
   "metadata": {},
   "source": [
    "Codage du message"
   ]
  },
  {
   "cell_type": "code",
   "execution_count": 28,
   "metadata": {},
   "outputs": [],
   "source": [
    "i=0;\n",
    "MessageCode = []\n",
    "longueur = 0\n",
    "while i < len(Message):\n",
    "    precsouschaine = Message[i] #sous-chaine qui sera codé\n",
    "    souschaine = Message[i] #sous-chaine qui sera codé + 1 caractère (pour le dictionnaire)\n",
    "    \n",
    "    #Cherche la plus grande sous-chaine. On ajoute un caractère au fur et à mesure.\n",
    "    while souschaine in dictsymb and i < len(Message):\n",
    "        i += 1\n",
    "        precsouschaine = souschaine\n",
    "        if i < len(Message):  #Si on a pas atteint la fin du message\n",
    "            souschaine += Message[i]  \n",
    "\n",
    "    #Codage de la plus grande sous-chaine à l'aide du dictionnaire  \n",
    "    codebinaire = [dictbin[dictsymb.index(precsouschaine)]]\n",
    "    MessageCode += codebinaire\n",
    "    longueur += len(codebinaire[0]) \n",
    "    #Ajout de la sous-chaine codé + symbole suivant dans le dictionnaire.\n",
    "    if i < len(Message):\n",
    "        dictsymb += [souschaine]\n",
    "        dictbin += [\"{:b}\".format(nbsymboles)] \n",
    "        nbsymboles +=1\n",
    "    \n",
    "    #Ajout de 1 bit si requis\n",
    "    if np.ceil(np.log2(nbsymboles)) > len(MessageCode[-1]):\n",
    "        for j in range(nbsymboles):\n",
    "            dictbin[j] = \"{:b}\".format(j).zfill(int(np.ceil(np.log2(nbsymboles))))\n",
    "    \n"
   ]
  },
  {
   "cell_type": "markdown",
   "metadata": {},
   "source": [
    "Affichage du message codé"
   ]
  },
  {
   "cell_type": "code",
   "execution_count": 29,
   "metadata": {},
   "outputs": [
    {
     "name": "stdout",
     "output_type": "stream",
     "text": [
      "['001', '0111', '0111', '0100', '0110', '0011', '0010', '0001', '0101', '00010', '00110', '00001', '00001', '00110', '00010', '00100', '00010', '00111', '00011', '00101', '11010', '00101', '00110', '00111', '10010', '000110', '000000', '000001', '000011', '000011', '010111', '001011', '010000', '001010']\n"
     ]
    }
   ],
   "source": [
    " print(MessageCode)"
   ]
  },
  {
   "cell_type": "markdown",
   "metadata": {},
   "source": [
    "Affichage du dictionnaire final"
   ]
  },
  {
   "cell_type": "code",
   "execution_count": 30,
   "metadata": {},
   "outputs": [
    {
     "name": "stdout",
     "output_type": "stream",
     "text": [
      "[['A' '000000']\n",
      " ['B' '000001']\n",
      " ['C' '000010']\n",
      " ['D' '000011']\n",
      " ['E' '000100']\n",
      " ['F' '000101']\n",
      " ['G' '000110']\n",
      " ['H' '000111']\n",
      " ['BH' '001000']\n",
      " ['HH' '001001']\n",
      " ['HE' '001010']\n",
      " ['EG' '001011']\n",
      " ['GD' '001100']\n",
      " ['DC' '001101']\n",
      " ['CB' '001110']\n",
      " ['BF' '001111']\n",
      " ['FC' '010000']\n",
      " ['CG' '010001']\n",
      " ['GB' '010010']\n",
      " ['BB' '010011']\n",
      " ['BG' '010100']\n",
      " ['GC' '010101']\n",
      " ['CE' '010110']\n",
      " ['EC' '010111']\n",
      " ['CH' '011000']\n",
      " ['HD' '011001']\n",
      " ['DF' '011010']\n",
      " ['FD' '011011']\n",
      " ['DFF' '011100']\n",
      " ['FG' '011101']\n",
      " ['GH' '011110']\n",
      " ['HG' '011111']\n",
      " ['GBG' '100000']\n",
      " ['GA' '100001']\n",
      " ['AB' '100010']\n",
      " ['BD' '100011']\n",
      " ['DD' '100100']\n",
      " ['DE' '100101']\n",
      " ['ECE' '100110']\n",
      " ['EGF' '100111']\n",
      " ['FCH' '101000']]\n"
     ]
    }
   ],
   "source": [
    "dictionnaire = np.transpose([dictsymb,dictbin])\n",
    "print(dictionnaire) "
   ]
  },
  {
   "cell_type": "markdown",
   "metadata": {},
   "source": [
    "Longueur en bits du message codé et celle de l'original"
   ]
  },
  {
   "cell_type": "code",
   "execution_count": 31,
   "metadata": {},
   "outputs": [
    {
     "name": "stdout",
     "output_type": "stream",
     "text": [
      "Longueur = 169\n",
      "Longueur originale = 120.0\n"
     ]
    }
   ],
   "source": [
    "print(\"Longueur = {0}\".format(longueur))\n",
    "print(\"Longueur originale = {0}\".format(longueurOriginale))"
   ]
  },
  {
   "cell_type": "code",
   "execution_count": 32,
   "metadata": {},
   "outputs": [
    {
     "name": "stdout",
     "output_type": "stream",
     "text": [
      "-0.40833333333333344\n"
     ]
    }
   ],
   "source": [
    "taux = 1 - longueur/longueurOriginale\n",
    "print(taux)"
   ]
  }
 ],
 "metadata": {
  "kernelspec": {
   "display_name": "Python 3",
   "language": "python",
   "name": "python3"
  },
  "language_info": {
   "codemirror_mode": {
    "name": "ipython",
    "version": 3
   },
   "file_extension": ".py",
   "mimetype": "text/x-python",
   "name": "python",
   "nbconvert_exporter": "python",
   "pygments_lexer": "ipython3",
   "version": "3.8.0"
  }
 },
 "nbformat": 4,
 "nbformat_minor": 2
}
